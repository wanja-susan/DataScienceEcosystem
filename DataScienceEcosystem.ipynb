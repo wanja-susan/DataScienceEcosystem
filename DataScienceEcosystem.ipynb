{
 "cells": [
  {
   "cell_type": "markdown",
   "id": "ddb54f9a",
   "metadata": {},
   "source": [
    "# Data Science Tools and Ecosystem"
   ]
  },
  {
   "cell_type": "markdown",
   "id": "864712f4",
   "metadata": {},
   "source": [
    "In this notebook, I have summatized the Data Science Tools and Ecosystem."
   ]
  },
  {
   "cell_type": "markdown",
   "id": "28e635cf",
   "metadata": {},
   "source": [
    "**Objectives:**\n",
    "\n",
    "- List popular languages for Data Science.\n",
    "- Introduce commonly used libraries in Data Science.\n",
    "- Provide examples of evaluating arithmetic expressions in Python.\n",
    "- Demonstrate the conversion of minutes to hours using Python.\n",
    "- Showcase the use of a table to present information in Markdown."
   ]
  },
  {
   "cell_type": "markdown",
   "id": "3ba64484",
   "metadata": {},
   "source": [
    "Some of the popular languages that Data Scientists use are:\n",
    "Some of the popular languages that Data Scientists use are:\n",
    "\n",
    "1. **Python**: Widely used for its simplicity, extensive libraries (such as NumPy, Pandas, and Scikit-learn), and versatility in data manipulation, analysis, and machine learning.\n",
    "\n",
    "2. **R**: Known for its statistical computing capabilities, R is commonly used for data visualization, statistical modeling, and analysis in the field of data science.\n",
    "\n",
    "3. **SQL (Structured Query Language)**: Essential for working with relational databases, SQL is crucial for data retrieval, manipulation, and management in various data science projects.\n"
   ]
  },
  {
   "cell_type": "markdown",
   "id": "73a096c5",
   "metadata": {},
   "source": [
    "Some of the commonly used libraries used by Data Scientists include:\n",
    "\n",
    "1. **NumPy**: A fundamental library for numerical computing in Python, NumPy provides support for large, multi-dimensional arrays and matrices, along with mathematical functions to operate on these arrays.\n",
    "\n",
    "2. **Pandas**: Built on top of NumPy, Pandas is a powerful library for data manipulation and analysis. It offers data structures like DataFrame, which makes it easy to clean, transform, and analyze structured data.\n",
    "\n",
    "3. **Scikit-learn**: A machine learning library for Python, Scikit-learn provides simple and efficient tools for data mining and data analysis. It includes various algorithms for classification, regression, clustering, and more.\n",
    "\n",
    "4. **Matplotlib**: A widely used plotting library for Python, Matplotlib helps Data Scientists create static, animated, and interactive visualizations in Python. It is often used in conjunction with NumPy and Pandas.\n",
    "\n",
    "5. **TensorFlow**: Developed by Google, TensorFlow is an open-source machine learning framework widely used for building and training deep learning models. It provides a comprehensive ecosystem for machine learning tasks.\n",
    "\n",
    "6. **PyTorch**: Another popular deep learning library, PyTorch is known for its dynamic computational graph, making it flexible and suitable for research in artificial intelligence and deep learning.\n",
    "\n",
    "7. **Seaborn**: Built on top of Matplotlib, Seaborn is a statistical data visualization library that simplifies the process of creating attractive and informative statistical graphics.\n",
    "\n",
    "8. **Statsmodels**: A library for estimating and testing statistical models, Statsmodels is used for tasks such as linear regression, time-series analysis, and hypothesis testing in data science projects.\n"
   ]
  },
  {
   "cell_type": "markdown",
   "id": "7419fa7c",
   "metadata": {},
   "source": [
    "| Data Science Tools      |\n",
    "|-------------------------|\n",
    "| Jupyter Notebooks       |\n",
    "| RStudio                 |\n",
    "| VS Code with Python      |\n"
   ]
  },
  {
   "cell_type": "markdown",
   "id": "3e86a0e0",
   "metadata": {},
   "source": [
    "### Examples of Evaluating Arithmetic Expressions in Python\n",
    "\n",
    "Below are a few examples of evaluating arithmetic expressions in Python.\n",
    "\n",
    "1. Addition:\n",
    "   ```python\n",
    "   result = 5 + 3\n",
    "   print(result)  # Output: 8"
   ]
  },
  {
   "cell_type": "markdown",
   "id": "edf5b23b",
   "metadata": {},
   "source": [
    "### Examples of Evaluating Arithmetic Expressions in Python\n",
    "\n",
    "Below are a few examples of evaluating arithmetic expressions in Python. "
   ]
  },
  {
   "cell_type": "code",
   "execution_count": 3,
   "id": "8a6afeab",
   "metadata": {},
   "outputs": [
    {
     "name": "stdout",
     "output_type": "stream",
     "text": [
      "8\n"
     ]
    }
   ],
   "source": [
    "# addition\n",
    "result =5+3\n",
    "print(result) "
   ]
  },
  {
   "cell_type": "code",
   "execution_count": 4,
   "id": "fa18e9de",
   "metadata": {},
   "outputs": [
    {
     "name": "stdout",
     "output_type": "stream",
     "text": [
      "2\n"
     ]
    }
   ],
   "source": [
    "# subtraction\n",
    "result =5-3\n",
    "print(result)"
   ]
  },
  {
   "cell_type": "code",
   "execution_count": 5,
   "id": "5bbebe4b",
   "metadata": {},
   "outputs": [
    {
     "name": "stdout",
     "output_type": "stream",
     "text": [
      "1.6666666666666667\n"
     ]
    }
   ],
   "source": [
    "# Division\n",
    "result =5/3\n",
    "print(result)"
   ]
  },
  {
   "cell_type": "code",
   "execution_count": 6,
   "id": "f9ca270b",
   "metadata": {},
   "outputs": [
    {
     "name": "stdout",
     "output_type": "stream",
     "text": [
      "17\n"
     ]
    }
   ],
   "source": [
    "# This is a simple arithmetic expression to multiply then add integers.\n",
    "result = (3 * 4) + 5\n",
    "print(result)"
   ]
  },
  {
   "cell_type": "code",
   "execution_count": 7,
   "id": "80b70022",
   "metadata": {},
   "outputs": [
    {
     "name": "stdout",
     "output_type": "stream",
     "text": [
      "3.3333333333333335\n"
     ]
    }
   ],
   "source": [
    "# This will convert 200 minutes to hours by dividing by 60.\n",
    "minutes = 200\n",
    "hours = minutes / 60\n",
    "print(hours)"
   ]
  },
  {
   "cell_type": "markdown",
   "id": "393f7996",
   "metadata": {},
   "source": [
    "\n",
    "## Author\n",
    "\n",
    "Susan Wanja"
   ]
  },
  {
   "cell_type": "code",
   "execution_count": null,
   "id": "73690473",
   "metadata": {},
   "outputs": [],
   "source": []
  }
 ],
 "metadata": {
  "kernelspec": {
   "display_name": "Python 3 (ipykernel)",
   "language": "python",
   "name": "python3"
  },
  "language_info": {
   "codemirror_mode": {
    "name": "ipython",
    "version": 3
   },
   "file_extension": ".py",
   "mimetype": "text/x-python",
   "name": "python",
   "nbconvert_exporter": "python",
   "pygments_lexer": "ipython3",
   "version": "3.10.9"
  }
 },
 "nbformat": 4,
 "nbformat_minor": 5
}
